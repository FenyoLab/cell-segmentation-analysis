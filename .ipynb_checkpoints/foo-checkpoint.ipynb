{
 "cells": [
  {
   "cell_type": "code",
   "execution_count": 1,
   "metadata": {
    "collapsed": true
   },
   "outputs": [],
   "source": [
    "\"\"\"\"\n",
    "# Created on Tue Mar 21 15:46:39 2017\n",
    "\n",
    "# @author: keriabermudez\n",
    "\n",
    "# This script is an example of how to use the cell tracking \n",
    "\n",
    "\"\"\"\n",
    "\n",
    "import cell_segmentation as cellseg\n",
    "from skimage import io\n",
    "import numpy as np\n",
    "import os"
   ]
  },
  {
   "cell_type": "code",
   "execution_count": 2,
   "metadata": {
    "collapsed": true
   },
   "outputs": [],
   "source": [
    "path = os.getcwd()\n",
    "\n",
    "path= path+'/images/tracking_example/'\n",
    "\n",
    "image = 'GFP-CCND1_and_Cherry-PCNA-10_03.tif'\n",
    "path_results = path +'Results/'\n",
    "\n",
    "\n",
    "img  = io.imread(path+image)"
   ]
  }
 ],
 "metadata": {
  "kernelspec": {
   "display_name": "Python 2",
   "language": "python",
   "name": "python2"
  },
  "language_info": {
   "codemirror_mode": {
    "name": "ipython",
    "version": 2
   },
   "file_extension": ".py",
   "mimetype": "text/x-python",
   "name": "python",
   "nbconvert_exporter": "python",
   "pygments_lexer": "ipython2",
   "version": "2.7.11"
  }
 },
 "nbformat": 4,
 "nbformat_minor": 0
}
